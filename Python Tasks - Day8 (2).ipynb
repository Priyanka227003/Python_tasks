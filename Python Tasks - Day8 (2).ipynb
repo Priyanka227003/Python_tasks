{
 "cells": [
  {
   "cell_type": "markdown",
   "id": "47a49f71",
   "metadata": {},
   "source": [
    "### 1. \n",
    "     The two values of boolean type are True and False. The t and f are always written in capital."
   ]
  },
  {
   "cell_type": "markdown",
   "id": "59fdad81",
   "metadata": {},
   "source": [
    "### 2. \n",
    "    The three boolean operators are And , Or and Not."
   ]
  },
  {
   "cell_type": "markdown",
   "id": "2c1069d4",
   "metadata": {},
   "source": [
    "### 3. \n",
    "    And (T-T)-->1(TURE), (F-F,F-T,T-F)-->0(FALSE)\n",
    "    OR(T-T,T-F,F-T)-->TRUE,(F-F)--> FALSE\n",
    "   "
   ]
  },
  {
   "cell_type": "markdown",
   "id": "4883ec9c",
   "metadata": {},
   "source": [
    "### 4. \n",
    "       False\n",
    "       False\n",
    "       True \n",
    "       False\n",
    "       False\n",
    "       True"
   ]
  },
  {
   "cell_type": "markdown",
   "id": "b59f135a",
   "metadata": {},
   "source": [
    "### 5. >,<,==,>=,<=,!="
   ]
  },
  {
   "cell_type": "markdown",
   "id": "905cc22b",
   "metadata": {},
   "source": [
    "### 6. Difference between equal to operator and assignment operator\n",
    "      Equal to operator (==):\n",
    "The equal to operator is used for comparison. It checks if two values are equal or not. It returns True if the values are equal and False otherwise.\n",
    "      Assignment operator (=):\n",
    "The assignment operator is used to assign a value to a variable. It takes the value on the right and assigns it to the variable on the left. "
   ]
  },
  {
   "cell_type": "markdown",
   "id": "b929435c",
   "metadata": {},
   "source": [
    "### 7. \n",
    "     A condition is a statement that returns yes or no.It can be used for selection of statements. "
   ]
  },
  {
   "cell_type": "code",
   "execution_count": null,
   "id": "a0b5046c",
   "metadata": {},
   "outputs": [],
   "source": []
  }
 ],
 "metadata": {
  "kernelspec": {
   "display_name": "Python 3 (ipykernel)",
   "language": "python",
   "name": "python3"
  },
  "language_info": {
   "codemirror_mode": {
    "name": "ipython",
    "version": 3
   },
   "file_extension": ".py",
   "mimetype": "text/x-python",
   "name": "python",
   "nbconvert_exporter": "python",
   "pygments_lexer": "ipython3",
   "version": "3.10.9"
  }
 },
 "nbformat": 4,
 "nbformat_minor": 5
}
