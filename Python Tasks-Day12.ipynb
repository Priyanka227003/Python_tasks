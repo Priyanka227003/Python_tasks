{
 "cells": [
  {
   "cell_type": "code",
   "execution_count": 6,
   "id": "2b78d634",
   "metadata": {},
   "outputs": [
    {
     "name": "stdout",
     "output_type": "stream",
     "text": [
      "Welcome to the guess game!\n",
      "Think a number between 1-50.\n",
      "Enter the number: 0\n",
      "Think a bigger number!\n",
      "Enter the number: 1\n",
      "Think a bigger number!\n",
      "Enter the number: 2\n",
      "Think a bigger number!\n",
      "Enter the number: 3\n",
      "Think a bigger number!\n",
      "Enter the number: 4\n",
      "Think a bigger number!\n",
      "Game over!\n",
      "the number was 26\n"
     ]
    }
   ],
   "source": [
    "import random\n",
    "print(\"Welcome to the guess game!\")\n",
    "print('Think a number between 1-50.')\n",
    "num=random.randint(1,50)\n",
    "\n",
    "for i in range(5):\n",
    "    guess_number=int(input('Enter the number: '))\n",
    "    if guess_number>num:\n",
    "        print('Think a lower number!')\n",
    "    elif guess_number<num:\n",
    "        print('Think a bigger number!')\n",
    "    elif guess_number==num:\n",
    "        print('Congrats! You win.')\n",
    "        break\n",
    "    else:\n",
    "        print('Think in the limit 1 to 50 only!')\n",
    "        continue\n",
    "print('Game over!')\n",
    "print('the number was',num)"
   ]
  },
  {
   "cell_type": "code",
   "execution_count": 12,
   "id": "8f1a58e5",
   "metadata": {},
   "outputs": [
    {
     "name": "stdout",
     "output_type": "stream",
     "text": [
      "The sorted array: [1, 2, 2, 4, 5, 6, 9]\n"
     ]
    }
   ],
   "source": [
    "a = [2, 4, 2, 1, 9, 6, 5]\n",
    "\n",
    "for i in range(len(a)):\n",
    "    for j in range(len(a)-i-1):  # Corrected the inner loop condition\n",
    "        if a[j] > a[j+1]:\n",
    "            temp = a[j]\n",
    "            a[j] = a[j+1]\n",
    "            a[j+1] = temp\n",
    "\n",
    "print('The sorted array:', a)\n"
   ]
  },
  {
   "cell_type": "code",
   "execution_count": 7,
   "id": "c39bc9c5",
   "metadata": {},
   "outputs": [
    {
     "name": "stdout",
     "output_type": "stream",
     "text": [
      " 5\n",
      " 6\n",
      " 11\n",
      " 12\n",
      " 13\n"
     ]
    }
   ],
   "source": [
    "def insertionSort(arr):\n",
    " \n",
    "   \n",
    "    for i in range(1, len(arr)):\n",
    " \n",
    "        key = arr[i]\n",
    " \n",
    "        \n",
    "        j = i-1\n",
    "        while j >= 0 and key < arr[j] :\n",
    "                arr[j + 1] = arr[j]\n",
    "                j -= 1\n",
    "        arr[j + 1] = key\n",
    " \n",
    " \n",
    "\n",
    "arr = [12, 11, 13, 5, 6]\n",
    "insertionSort(arr)\n",
    "for i in range(len(arr)):\n",
    "    print (\"% d\" % arr[i])\n",
    " "
   ]
  },
  {
   "cell_type": "code",
   "execution_count": 8,
   "id": "616e7fda",
   "metadata": {},
   "outputs": [
    {
     "name": "stdout",
     "output_type": "stream",
     "text": [
      "Sorted array: [11, 12, 22, 25, 64]\n"
     ]
    }
   ],
   "source": [
    "def selection_sort(arr):\n",
    "    n = len(arr)\n",
    "    \n",
    "    for i in range(n-1):\n",
    "        min_index = i\n",
    "        \n",
    "       \n",
    "        for j in range(i+1, n):\n",
    "            if arr[j] < arr[min_index]:\n",
    "                min_index = j\n",
    "        \n",
    "        \n",
    "        arr[i], arr[min_index] = arr[min_index], arr[i]\n",
    "    \n",
    "    return arr\n",
    "\n",
    "\n",
    "\n",
    "arr = [64, 25, 12, 22, 11]\n",
    "sorted_arr = selection_sort(arr)\n",
    "print(\"Sorted array:\", sorted_arr)\n"
   ]
  },
  {
   "cell_type": "code",
   "execution_count": null,
   "id": "53b7eb0f",
   "metadata": {},
   "outputs": [],
   "source": []
  }
 ],
 "metadata": {
  "kernelspec": {
   "display_name": "Python 3 (ipykernel)",
   "language": "python",
   "name": "python3"
  },
  "language_info": {
   "codemirror_mode": {
    "name": "ipython",
    "version": 3
   },
   "file_extension": ".py",
   "mimetype": "text/x-python",
   "name": "python",
   "nbconvert_exporter": "python",
   "pygments_lexer": "ipython3",
   "version": "3.10.9"
  }
 },
 "nbformat": 4,
 "nbformat_minor": 5
}
