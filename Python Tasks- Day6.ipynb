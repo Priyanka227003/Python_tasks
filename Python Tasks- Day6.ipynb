{
 "cells": [
  {
   "cell_type": "markdown",
   "id": "75618933",
   "metadata": {},
   "source": [
    "### 1. \n",
    "     a.Band name generator\n",
    "     b. Tip calculator\n",
    "     c. Treasure island\n",
    "     d. Dice Rolling Simulator.\n",
    "     e. Hangman.\n",
    "     f. Contact Book.\n",
    "     g. Binary search algorithm.\n",
    "     h. Desktop Notifier App.\n",
    "     i. Rock paper scissors\n",
    "     j. Create a password Generator"
   ]
  },
  {
   "cell_type": "markdown",
   "id": "c89ae9e4",
   "metadata": {},
   "source": [
    "### 2."
   ]
  },
  {
   "cell_type": "code",
   "execution_count": 3,
   "id": "d7e1d9ec",
   "metadata": {},
   "outputs": [],
   "source": [
    "names=['jack','suga','rm','jimin','charlie','shawn']"
   ]
  },
  {
   "cell_type": "code",
   "execution_count": 4,
   "id": "38843c29",
   "metadata": {},
   "outputs": [],
   "source": [
    "books = {\n",
    "    'book1': {\n",
    "        'title': 'The Catcher in the Rye',\n",
    "        'author': 'J.D. Salinger',\n",
    "        'isbn': '9780316769488',\n",
    "        'quantity': 3\n",
    "    },\n",
    "    'book2': {\n",
    "        'title': '1984',\n",
    "        'author': 'George Orwell',\n",
    "        'isbn': '9780451524935',\n",
    "        'quantity': 5\n",
    "    },\n",
    "    'book3': {\n",
    "        'title': 'Pride and Prejudice',\n",
    "        'author': 'Jane Austen',\n",
    "        'isbn': '9780141439518',\n",
    "        'quantity': 2\n",
    "    },\n",
    "    'book4': {\n",
    "        'title': 'To Kill a Mockingbird',\n",
    "        'author': 'Harper Lee',\n",
    "        'isbn': '9780060935467',\n",
    "        'quantity': 4\n",
    "    },\n",
    "    'book5': {\n",
    "        'title': 'The Lord of the Rings',\n",
    "        'author': 'J.R.R. Tolkien',\n",
    "        'isbn': '9780544003415',\n",
    "        'quantity': 6\n",
    "    }\n",
    "}\n"
   ]
  },
  {
   "cell_type": "markdown",
   "id": "c5081c77",
   "metadata": {},
   "source": [
    "### 3. duck typing\n",
    "       the data types of variables can change as long as the syntax is compatible.\n",
    "       dunder method are also called magic mehtods. They are predefined methods which are in the form of __add__ it is called when their operator is used in the program."
   ]
  },
  {
   "cell_type": "markdown",
   "id": "c8c5ba0e",
   "metadata": {},
   "source": [
    "### 4. \n",
    "    Operators are the special symbols that designate that some sort of computation should be performed.\n",
    "    \n",
    "    \n",
    "    arithmetic operators, assignment operators, comparison operators, logical operators, identity operators, membership operators, and boolean operators."
   ]
  },
  {
   "cell_type": "code",
   "execution_count": null,
   "id": "896c8491",
   "metadata": {},
   "outputs": [],
   "source": []
  },
  {
   "cell_type": "code",
   "execution_count": null,
   "id": "7d31bacd",
   "metadata": {},
   "outputs": [],
   "source": []
  }
 ],
 "metadata": {
  "kernelspec": {
   "display_name": "Python 3 (ipykernel)",
   "language": "python",
   "name": "python3"
  },
  "language_info": {
   "codemirror_mode": {
    "name": "ipython",
    "version": 3
   },
   "file_extension": ".py",
   "mimetype": "text/x-python",
   "name": "python",
   "nbconvert_exporter": "python",
   "pygments_lexer": "ipython3",
   "version": "3.10.9"
  }
 },
 "nbformat": 4,
 "nbformat_minor": 5
}
