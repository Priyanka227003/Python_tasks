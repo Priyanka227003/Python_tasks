{
 "cells": [
  {
   "cell_type": "code",
   "execution_count": 1,
   "id": "8baf5ddf",
   "metadata": {},
   "outputs": [
    {
     "name": "stdout",
     "output_type": "stream",
     "text": [
      "Enter a number: 234\n",
      "The sum of digits of the number until it is reduced to 1 digit is: 9\n"
     ]
    }
   ],
   "source": [
    "num = input(\"Enter a number: \")\n",
    "sum = 0\n",
    "\n",
    "while len(num) > 1:\n",
    "    for digit in num:\n",
    "        sum += int(digit)\n",
    "    num = str(sum)\n",
    "    sum = 0\n",
    "\n",
    "print(\"The sum of digits of the number until it is reduced to 1 digit is:\", num)\n"
   ]
  },
  {
   "cell_type": "code",
   "execution_count": 2,
   "id": "4b5a736b",
   "metadata": {},
   "outputs": [
    {
     "name": "stdout",
     "output_type": "stream",
     "text": [
      "Enter the first number: 3\n",
      "Enter the second number: 2\n",
      "The GCD of 3 and 2 is 1\n",
      "The LCM of 3 and 2 is 6\n"
     ]
    }
   ],
   "source": [
    "def gcd(a, b):\n",
    "    if b == 0:\n",
    "        return a\n",
    "    else:\n",
    "        return gcd(b, a % b)\n",
    "\n",
    "a = int(input(\"Enter the first number: \"))\n",
    "b = int(input(\"Enter the second number: \"))\n",
    "\n",
    "gcd_result = gcd(a, b)\n",
    "lcm = (a * b) // gcd_result\n",
    "\n",
    "print(\"The GCD of\", a, \"and\", b, \"is\", gcd_result)\n",
    "print(\"The LCM of\", a, \"and\", b, \"is\", lcm)\n"
   ]
  },
  {
   "cell_type": "code",
   "execution_count": 3,
   "id": "158183a0",
   "metadata": {},
   "outputs": [
    {
     "name": "stdout",
     "output_type": "stream",
     "text": [
      "Enter any number: 4\n",
      "Cubes of numbers divisible by 3:\n",
      "27\n",
      "\n",
      "Rewritten using the continue statement:\n",
      "27\n"
     ]
    }
   ],
   "source": [
    "n = int(input(\"Enter any number: \"))\n",
    "\n",
    "print(\"Cubes of numbers divisible by 3:\")\n",
    "for i in range(1, n + 1):\n",
    "    if i % 3 == 0:\n",
    "        print(i**3)\n",
    "\n",
    "print(\"\\nRewritten using the continue statement:\")\n",
    "for i in range(1, n + 1):\n",
    "    if i % 3 != 0:\n",
    "        continue\n",
    "    print(i**3)\n"
   ]
  },
  {
   "cell_type": "code",
   "execution_count": 4,
   "id": "c1944b25",
   "metadata": {},
   "outputs": [
    {
     "name": "stdout",
     "output_type": "stream",
     "text": [
      "Enter a number: 3\n",
      "The number of digits in the number are: 1\n"
     ]
    }
   ],
   "source": [
    "num = int(input(\"Enter a number: \"))\n",
    "count = 0\n",
    "\n",
    "if num == 0:\n",
    "    count = 1\n",
    "\n",
    "while num != 0:\n",
    "    count += 1\n",
    "    num //= 10\n",
    "\n",
    "print(\"The number of digits in the number are:\", count)\n"
   ]
  },
  {
   "cell_type": "code",
   "execution_count": 5,
   "id": "a132ded1",
   "metadata": {},
   "outputs": [
    {
     "name": "stdout",
     "output_type": "stream",
     "text": [
      "Enter a number: 54\n",
      "Reverse of the number: 45\n",
      "Double of the reverse number: 90\n"
     ]
    }
   ],
   "source": [
    "num = int(input(\"Enter a number: \"))\n",
    "reverse_num = 0\n",
    "\n",
    "while num > 0:\n",
    "    remainder = num % 10\n",
    "    reverse_num = (reverse_num * 10) + remainder\n",
    "    num = num // 10\n",
    "\n",
    "print(\"Reverse of the number:\", reverse_num)\n",
    "print(\"Double of the reverse number:\", reverse_num * 2)\n"
   ]
  },
  {
   "cell_type": "code",
   "execution_count": null,
   "id": "b783919b",
   "metadata": {},
   "outputs": [],
   "source": []
  }
 ],
 "metadata": {
  "kernelspec": {
   "display_name": "Python 3 (ipykernel)",
   "language": "python",
   "name": "python3"
  },
  "language_info": {
   "codemirror_mode": {
    "name": "ipython",
    "version": 3
   },
   "file_extension": ".py",
   "mimetype": "text/x-python",
   "name": "python",
   "nbconvert_exporter": "python",
   "pygments_lexer": "ipython3",
   "version": "3.10.9"
  }
 },
 "nbformat": 4,
 "nbformat_minor": 5
}
