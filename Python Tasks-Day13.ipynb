{
 "cells": [
  {
   "cell_type": "code",
   "execution_count": 2,
   "id": "026bbe55",
   "metadata": {},
   "outputs": [
    {
     "name": "stdout",
     "output_type": "stream",
     "text": [
      "{'o': 2, 'a': 1, 'i': 1}\n"
     ]
    }
   ],
   "source": [
    "def count_vowels(string):\n",
    "    vowels = 'aeiou'\n",
    "    count = {}\n",
    "    for char in string:\n",
    "        if char.lower() in vowels:\n",
    "            if char.lower() in count:\n",
    "                count[char.lower()] += 1\n",
    "            else:\n",
    "                count[char.lower()] = 1\n",
    "    return count\n",
    "\n",
    "string = \"Python Programming\"\n",
    "print(count_vowels(string))\n"
   ]
  },
  {
   "cell_type": "code",
   "execution_count": 4,
   "id": "ebed6895",
   "metadata": {},
   "outputs": [
    {
     "name": "stdout",
     "output_type": "stream",
     "text": [
      "Number of words: 2\n",
      "Number of characters: 18\n",
      "Number of spaces: 1\n"
     ]
    }
   ],
   "source": [
    "def count(string):\n",
    "    words = len(string.split())\n",
    "    characters = len(string)\n",
    "    spaces = string.count(' ')\n",
    "    return words, characters, spaces\n",
    "\n",
    "string = 'Python Programming'\n",
    "words, characters, spaces = count(string)\n",
    "print(\"Number of words:\", words)\n",
    "print(\"Number of characters:\", characters)\n",
    "print(\"Number of spaces:\", spaces)\n"
   ]
  },
  {
   "cell_type": "code",
   "execution_count": 5,
   "id": "7f69db40",
   "metadata": {},
   "outputs": [
    {
     "name": "stdout",
     "output_type": "stream",
     "text": [
      "Enter the number of rows: 2\n",
      "Enter the number of columns: 2\n",
      "Enter element (1, 1): 1\n",
      "Enter element (1, 2): 2\n",
      "Enter element (2, 1): 3\n",
      "Enter element (2, 2): 4\n",
      "[[1, 2], [3, 4]]\n"
     ]
    }
   ],
   "source": [
    "m = int(input(\"Enter the number of rows: \"))\n",
    "n = int(input(\"Enter the number of columns: \"))\n",
    "matrix = []\n",
    "for i in range(m):\n",
    "    row = []\n",
    "    for j in range(n):\n",
    "        element = int(input(f\"Enter element ({i+1}, {j+1}): \"))\n",
    "        row.append(element)\n",
    "    matrix.append(row)\n",
    "print(matrix)\n"
   ]
  },
  {
   "cell_type": "code",
   "execution_count": null,
   "id": "05f0cb72",
   "metadata": {},
   "outputs": [],
   "source": []
  }
 ],
 "metadata": {
  "kernelspec": {
   "display_name": "Python 3 (ipykernel)",
   "language": "python",
   "name": "python3"
  },
  "language_info": {
   "codemirror_mode": {
    "name": "ipython",
    "version": 3
   },
   "file_extension": ".py",
   "mimetype": "text/x-python",
   "name": "python",
   "nbconvert_exporter": "python",
   "pygments_lexer": "ipython3",
   "version": "3.10.9"
  }
 },
 "nbformat": 4,
 "nbformat_minor": 5
}
