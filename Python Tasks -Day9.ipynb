{
 "cells": [
  {
   "cell_type": "code",
   "execution_count": 2,
   "id": "bb85c06d",
   "metadata": {},
   "outputs": [
    {
     "name": "stdout",
     "output_type": "stream",
     "text": [
      "n : -5\n",
      "-5 is negative\n"
     ]
    }
   ],
   "source": [
    "n=int(input('n : '))\n",
    "if(n>0):\n",
    "    print(f\"{n} is  positive \")\n",
    "elif(n<0):\n",
    "    print(f\"{n} is negative\")\n",
    "else:\n",
    "    print(f\"{n} is 0\")"
   ]
  },
  {
   "cell_type": "code",
   "execution_count": 4,
   "id": "58d2bcc2",
   "metadata": {},
   "outputs": [
    {
     "name": "stdout",
     "output_type": "stream",
     "text": [
      "enter a number: 10\n",
      "10 it is not divisible by 5 and 11\n"
     ]
    }
   ],
   "source": [
    "a=int(input('enter a number: '))\n",
    "if a%5 ==0 and a%11==0:\n",
    "    print(f\"{a} is divisible by 5 and 11\")\n",
    "else:\n",
    "    print(f\"{a} it is not divisible by 5 and 11\")"
   ]
  },
  {
   "cell_type": "code",
   "execution_count": null,
   "id": "1b064a3b",
   "metadata": {},
   "outputs": [],
   "source": [
    "year=int(input('enter a year: '))\n",
    "if year%4==0:\n",
    "    "
   ]
  }
 ],
 "metadata": {
  "kernelspec": {
   "display_name": "Python 3 (ipykernel)",
   "language": "python",
   "name": "python3"
  },
  "language_info": {
   "codemirror_mode": {
    "name": "ipython",
    "version": 3
   },
   "file_extension": ".py",
   "mimetype": "text/x-python",
   "name": "python",
   "nbconvert_exporter": "python",
   "pygments_lexer": "ipython3",
   "version": "3.10.9"
  }
 },
 "nbformat": 4,
 "nbformat_minor": 5
}
