{
 "cells": [
  {
   "cell_type": "markdown",
   "id": "00426505",
   "metadata": {},
   "source": [
    "List Some Mega Projects Hosted in Python \n",
    "\n",
    "Database Projects: Management Systems (Library, Hotel, Hospital, School) \n",
    "\n",
    "ML Projects: Classification \n",
    "\n",
    "AI Projects: Chatbots, face detection and recognition, speech recognition, Security \n",
    "\n",
    "Data Science Projects: Global Terrorism Analysis, Call Data Record Analysis \n",
    "\n",
    " \n",
    "\n",
    "List Python Libraries Used in Different IT Domains \n",
    "\n",
    "Pandas, numpy, matplotlib, tkinter, sklearn, tensorflow \n",
    "\n",
    " "
   ]
  },
  {
   "cell_type": "code",
   "execution_count": 4,
   "id": "83210f80",
   "metadata": {},
   "outputs": [
    {
     "name": "stdout",
     "output_type": "stream",
     "text": [
      "Hello World\n",
      "Sum is : 50\n"
     ]
    }
   ],
   "source": [
    "print('Hello World') \n",
    "\n",
    "a = 45 \n",
    "\n",
    "b = 5 \n",
    "\n",
    "c = a+b \n",
    "\n",
    "print('Sum is :', c) "
   ]
  },
  {
   "cell_type": "code",
   "execution_count": null,
   "id": "44233a4c",
   "metadata": {},
   "outputs": [],
   "source": []
  }
 ],
 "metadata": {
  "kernelspec": {
   "display_name": "Python 3 (ipykernel)",
   "language": "python",
   "name": "python3"
  },
  "language_info": {
   "codemirror_mode": {
    "name": "ipython",
    "version": 3
   },
   "file_extension": ".py",
   "mimetype": "text/x-python",
   "name": "python",
   "nbconvert_exporter": "python",
   "pygments_lexer": "ipython3",
   "version": "3.10.9"
  }
 },
 "nbformat": 4,
 "nbformat_minor": 5
}
