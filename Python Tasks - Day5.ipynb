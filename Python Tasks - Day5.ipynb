{
 "cells": [
  {
   "cell_type": "markdown",
   "id": "612b58d8",
   "metadata": {},
   "source": [
    "### 1. Difference between shallow copy and deep copy\n",
    "     A shallow copy constructs a new compound object and then (to the extent possible) inserts references into it to the objects found in the original.\n",
    "     A deep copy constructs a new compound object and then, recursively, inserts copies into it of the objects found in the original."
   ]
  },
  {
   "cell_type": "markdown",
   "id": "befccfed",
   "metadata": {},
   "source": [
    "### 2. "
   ]
  },
  {
   "cell_type": "code",
   "execution_count": 1,
   "id": "75e1e733",
   "metadata": {},
   "outputs": [],
   "source": [
    "lib=books = [\n",
    "    {\n",
    "        'title': 'Python Crash Course',\n",
    "        'author': 'Eric Matthes',\n",
    "        'isbn': '978-1593276034',\n",
    "        'quantity': 5\n",
    "    },\n",
    "    {\n",
    "        'title': 'The Great Gatsby',\n",
    "        'author': 'F. Scott Fitzgerald',\n",
    "        'isbn': '978-0743273565',\n",
    "        'quantity': 3\n",
    "    },\n",
    "    {\n",
    "        'title': 'To Kill a Mockingbird',\n",
    "        'author': 'Harper Lee',\n",
    "        'isbn': '978-0060935467',\n",
    "        'quantity': 7\n",
    "    }]"
   ]
  },
  {
   "cell_type": "markdown",
   "id": "2429bbb0",
   "metadata": {},
   "source": [
    "### 3. Difference between expression and statement\n",
    "      An expression represents a value and a statement represents an operation."
   ]
  },
  {
   "cell_type": "markdown",
   "id": "def66152",
   "metadata": {},
   "source": [
    "### 4.\n",
    "      a. the value of atomic data types cannot be broken.Numbers are primitive data types their values cannot be broken into smaller parts.\n",
    " \n",
    "      b. Secondary data means data collected by someone else earlier."
   ]
  },
  {
   "cell_type": "markdown",
   "id": "da6eb6c0",
   "metadata": {},
   "source": [
    "### 5. \n",
    "     A user-defined function (UDF) is a common fixture in programming languages, and the main tool of programmers for creating applications with reusable code"
   ]
  },
  {
   "cell_type": "code",
   "execution_count": null,
   "id": "791d9f79",
   "metadata": {},
   "outputs": [],
   "source": []
  }
 ],
 "metadata": {
  "kernelspec": {
   "display_name": "Python 3 (ipykernel)",
   "language": "python",
   "name": "python3"
  },
  "language_info": {
   "codemirror_mode": {
    "name": "ipython",
    "version": 3
   },
   "file_extension": ".py",
   "mimetype": "text/x-python",
   "name": "python",
   "nbconvert_exporter": "python",
   "pygments_lexer": "ipython3",
   "version": "3.10.9"
  }
 },
 "nbformat": 4,
 "nbformat_minor": 5
}
