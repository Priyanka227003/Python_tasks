{
 "cells": [
  {
   "cell_type": "markdown",
   "id": "e7e4b2ea",
   "metadata": {},
   "source": [
    "### 1."
   ]
  },
  {
   "cell_type": "code",
   "execution_count": 1,
   "id": "44cc957d",
   "metadata": {},
   "outputs": [],
   "source": [
    "s='             hello world            '\n"
   ]
  },
  {
   "cell_type": "code",
   "execution_count": 2,
   "id": "77ff3ecf",
   "metadata": {},
   "outputs": [
    {
     "name": "stdout",
     "output_type": "stream",
     "text": [
      "'             hello world            '\n"
     ]
    }
   ],
   "source": [
    "print(repr(s))"
   ]
  },
  {
   "cell_type": "code",
   "execution_count": 3,
   "id": "b8bcab9c",
   "metadata": {},
   "outputs": [
    {
     "data": {
      "text/plain": [
       "'hello world'"
      ]
     },
     "execution_count": 3,
     "metadata": {},
     "output_type": "execute_result"
    }
   ],
   "source": [
    "s.strip()"
   ]
  },
  {
   "cell_type": "code",
   "execution_count": 4,
   "id": "f16fb015",
   "metadata": {},
   "outputs": [
    {
     "data": {
      "text/plain": [
       "['hello', 'world']"
      ]
     },
     "execution_count": 4,
     "metadata": {},
     "output_type": "execute_result"
    }
   ],
   "source": [
    "s.split()#returns lists"
   ]
  },
  {
   "cell_type": "code",
   "execution_count": 5,
   "id": "72c250c4",
   "metadata": {},
   "outputs": [],
   "source": [
    "s='python'"
   ]
  },
  {
   "cell_type": "code",
   "execution_count": 6,
   "id": "2222b045",
   "metadata": {},
   "outputs": [
    {
     "data": {
      "text/plain": [
       "['python']"
      ]
     },
     "execution_count": 6,
     "metadata": {},
     "output_type": "execute_result"
    }
   ],
   "source": [
    "s.split()"
   ]
  },
  {
   "cell_type": "code",
   "execution_count": 16,
   "id": "c39f9d3a",
   "metadata": {},
   "outputs": [
    {
     "name": "stdout",
     "output_type": "stream",
     "text": [
      "athon\n"
     ]
    }
   ],
   "source": [
    "print(s.replace('py','a'))"
   ]
  },
  {
   "cell_type": "code",
   "execution_count": 17,
   "id": "a8413b57",
   "metadata": {},
   "outputs": [],
   "source": [
    "s='Hello world'"
   ]
  },
  {
   "cell_type": "code",
   "execution_count": 20,
   "id": "8021fcf5",
   "metadata": {},
   "outputs": [
    {
     "name": "stdout",
     "output_type": "stream",
     "text": [
      "                        Hello world                         \n"
     ]
    }
   ],
   "source": [
    "print(s.center(60))"
   ]
  },
  {
   "cell_type": "code",
   "execution_count": 21,
   "id": "07fc7bdd",
   "metadata": {},
   "outputs": [
    {
     "name": "stdout",
     "output_type": "stream",
     "text": [
      "Hello World\n"
     ]
    }
   ],
   "source": [
    "print(s.title())"
   ]
  },
  {
   "cell_type": "markdown",
   "id": "dc7db9cc",
   "metadata": {},
   "source": [
    "## 2.\n"
   ]
  },
  {
   "cell_type": "code",
   "execution_count": 28,
   "id": "14624c5d",
   "metadata": {},
   "outputs": [],
   "source": [
    "names=['Jeremy','Nathan','Aaron','Dante','Lucas']"
   ]
  },
  {
   "cell_type": "code",
   "execution_count": 29,
   "id": "fb09c1d4",
   "metadata": {},
   "outputs": [],
   "source": [
    "names.append('Alex')"
   ]
  },
  {
   "cell_type": "code",
   "execution_count": 30,
   "id": "68f52a3c",
   "metadata": {},
   "outputs": [
    {
     "name": "stdout",
     "output_type": "stream",
     "text": [
      "['Jeremy', 'Nathan', 'Aaron', 'Dante', 'Lucas', 'Alex']\n"
     ]
    }
   ],
   "source": [
    "print(names)"
   ]
  },
  {
   "cell_type": "code",
   "execution_count": 31,
   "id": "01140c85",
   "metadata": {},
   "outputs": [
    {
     "data": {
      "text/plain": [
       "'Alex'"
      ]
     },
     "execution_count": 31,
     "metadata": {},
     "output_type": "execute_result"
    }
   ],
   "source": [
    "names.pop()"
   ]
  },
  {
   "cell_type": "code",
   "execution_count": 32,
   "id": "8b7c5e6e",
   "metadata": {},
   "outputs": [
    {
     "name": "stdout",
     "output_type": "stream",
     "text": [
      "['Jeremy', 'Nathan', 'Aaron', 'Dante', 'Lucas']\n"
     ]
    }
   ],
   "source": [
    "print(names)"
   ]
  },
  {
   "cell_type": "code",
   "execution_count": 33,
   "id": "55ddff24",
   "metadata": {},
   "outputs": [],
   "source": [
    "names.remove('Aaron')"
   ]
  },
  {
   "cell_type": "code",
   "execution_count": 34,
   "id": "cf34ac73",
   "metadata": {},
   "outputs": [
    {
     "name": "stdout",
     "output_type": "stream",
     "text": [
      "['Jeremy', 'Nathan', 'Dante', 'Lucas']\n"
     ]
    }
   ],
   "source": [
    "print(names)"
   ]
  },
  {
   "cell_type": "code",
   "execution_count": 35,
   "id": "9dad9362",
   "metadata": {},
   "outputs": [
    {
     "name": "stdout",
     "output_type": "stream",
     "text": [
      "None\n"
     ]
    }
   ],
   "source": [
    "print(names.sort())"
   ]
  },
  {
   "cell_type": "code",
   "execution_count": 37,
   "id": "21598b21",
   "metadata": {},
   "outputs": [],
   "source": [
    "names.sort()"
   ]
  },
  {
   "cell_type": "code",
   "execution_count": 38,
   "id": "0f37ab1f",
   "metadata": {},
   "outputs": [
    {
     "name": "stdout",
     "output_type": "stream",
     "text": [
      "['Dante', 'Jeremy', 'Lucas', 'Nathan']\n"
     ]
    }
   ],
   "source": [
    "print(names)"
   ]
  },
  {
   "cell_type": "markdown",
   "id": "9f64cad6",
   "metadata": {},
   "source": [
    "### 3."
   ]
  },
  {
   "cell_type": "code",
   "execution_count": 39,
   "id": "9bf271ea",
   "metadata": {},
   "outputs": [],
   "source": [
    "language=['java','C','C++','sql']"
   ]
  },
  {
   "cell_type": "code",
   "execution_count": 40,
   "id": "09b1d9b3",
   "metadata": {},
   "outputs": [],
   "source": [
    "sub=['software engineering','big data','AI','network security']"
   ]
  },
  {
   "cell_type": "code",
   "execution_count": 41,
   "id": "9a322b15",
   "metadata": {},
   "outputs": [],
   "source": [
    "books=['The one thing','Eat that frog','Deep Work','Power','The alchemist']"
   ]
  },
  {
   "cell_type": "code",
   "execution_count": 42,
   "id": "9fa94f56",
   "metadata": {},
   "outputs": [],
   "source": [
    "operating_system=['macos','windows','android','ios']"
   ]
  },
  {
   "cell_type": "code",
   "execution_count": 43,
   "id": "b9106054",
   "metadata": {},
   "outputs": [],
   "source": [
    "fruits=['banana','apple','grapes','peach','mango']"
   ]
  },
  {
   "cell_type": "markdown",
   "id": "10ed0385",
   "metadata": {},
   "source": [
    "### 4. difference between mutable and immutable types in python\n",
    "        In mutable data types the data can be changed while in immutable data types the datas can not be modified.\n",
    "        ex of mutable=lists,dictionary etc\n",
    "        exampes of immutable=tuple,strings"
   ]
  },
  {
   "cell_type": "markdown",
   "id": "4b408826",
   "metadata": {},
   "source": [
    "### 5. \n",
    "       Identifiers are name of variables. Identifiers are case sensitive. Identifiers cannot be a keyword. It cannot start with a number. It can have undersscore."
   ]
  },
  {
   "cell_type": "code",
   "execution_count": null,
   "id": "43f31bca",
   "metadata": {},
   "outputs": [],
   "source": []
  }
 ],
 "metadata": {
  "kernelspec": {
   "display_name": "Python 3 (ipykernel)",
   "language": "python",
   "name": "python3"
  },
  "language_info": {
   "codemirror_mode": {
    "name": "ipython",
    "version": 3
   },
   "file_extension": ".py",
   "mimetype": "text/x-python",
   "name": "python",
   "nbconvert_exporter": "python",
   "pygments_lexer": "ipython3",
   "version": "3.10.9"
  }
 },
 "nbformat": 4,
 "nbformat_minor": 5
}
