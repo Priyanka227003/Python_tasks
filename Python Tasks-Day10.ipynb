{
 "cells": [
  {
   "cell_type": "code",
   "execution_count": 2,
   "id": "d05f8d6c",
   "metadata": {},
   "outputs": [
    {
     "name": "stdout",
     "output_type": "stream",
     "text": [
      "enter a number: 233242\n",
      "it is not a palindrome number.\n"
     ]
    }
   ],
   "source": [
    "#1\n",
    "\n",
    "num=int(input('enter a number: '))\n",
    "nm=str(num)\n",
    "rev=nm[::-1]\n",
    "if nm==rev:\n",
    "    print('it is a palindrome number.')\n",
    "else:\n",
    "    print('it is not a palindrome number.')"
   ]
  },
  {
   "cell_type": "code",
   "execution_count": 5,
   "id": "b9ee7e65",
   "metadata": {},
   "outputs": [
    {
     "name": "stdout",
     "output_type": "stream",
     "text": [
      "The multiple of 3:\n",
      "0\n",
      "3\n",
      "6\n",
      "9\n",
      "12\n",
      "15\n",
      "18\n",
      "21\n",
      "24\n",
      "27\n",
      "The multiple of 5:\n",
      "0\n",
      "5\n",
      "10\n",
      "15\n",
      "20\n",
      "25\n",
      "30\n",
      "35\n",
      "40\n",
      "45\n"
     ]
    }
   ],
   "source": [
    "#2\n",
    "print('The multiple of 3:')\n",
    "for i in range (10):\n",
    "    mul3=i*3\n",
    "    print(mul3)\n",
    "print('The multiple of 5:')\n",
    "for j in range (10):\n",
    "    mul5=j*5\n",
    "    print(mul5)"
   ]
  },
  {
   "cell_type": "code",
   "execution_count": 14,
   "id": "e244313b",
   "metadata": {},
   "outputs": [
    {
     "name": "stdout",
     "output_type": "stream",
     "text": [
      "enter a number: 5\n",
      "The factorial of 5 is 120!\n"
     ]
    }
   ],
   "source": [
    "#3\n",
    "n=int(input('enter a number: '))\n",
    "if n<0:\n",
    "    print('factorial is not defined for negative numbers')\n",
    "else:\n",
    "    f=1\n",
    "    for i in range(1,n+1):\n",
    "        f=f*i\n",
    "    print(f\"The factorial of {n} is {f}!\")\n",
    "        "
   ]
  },
  {
   "cell_type": "code",
   "execution_count": 16,
   "id": "ee7eccc7",
   "metadata": {},
   "outputs": [
    {
     "name": "stdout",
     "output_type": "stream",
     "text": [
      "Enter the number of terms: 10\n",
      "Fibonacci sequence up to 10 terms:\n",
      "0 1 1 2 3 5 8 13 21 34 "
     ]
    }
   ],
   "source": [
    "#4\n",
    "n = int(input(\"Enter the number of terms: \"))\n",
    "fibonacci_sequence = [0, 1]\n",
    "if n <= 0:\n",
    "    print(\"Please enter a positive integer.\")\n",
    "elif n == 1:\n",
    "    print(\"Fibonacci sequence up to\", n, \"term:\")\n",
    "    print(fibonacci_sequence[0])\n",
    "else:\n",
    "    print(\"Fibonacci sequence up to\", n, \"terms:\")\n",
    "    print(fibonacci_sequence[0], fibonacci_sequence[1], end=\" \")\n",
    "    a, b = fibonacci_sequence[0], fibonacci_sequence[1]\n",
    "    for _ in range(2, n):\n",
    "        next_term = a + b\n",
    "        a, b = b, next_term\n",
    "        print(next_term, end=\" \")\n"
   ]
  },
  {
   "cell_type": "code",
   "execution_count": 18,
   "id": "7dea302b",
   "metadata": {},
   "outputs": [
    {
     "name": "stdout",
     "output_type": "stream",
     "text": [
      "enter a number: 153\n",
      "153 it is an armstrong number\n"
     ]
    }
   ],
   "source": [
    "#5\n",
    "n=int(input('enter a number: '))\n",
    "num=str(n)\n",
    "digits=len(num)\n",
    "sum=0\n",
    "for digit in num:\n",
    "    sum=sum+int(digit) ** digits\n",
    "if sum==n:\n",
    "    print(n,'it is an armstrong number')\n",
    "else:\n",
    "    print(n,'it is not an armstrong number')"
   ]
  },
  {
   "cell_type": "code",
   "execution_count": null,
   "id": "b045005e",
   "metadata": {},
   "outputs": [],
   "source": []
  }
 ],
 "metadata": {
  "kernelspec": {
   "display_name": "Python 3 (ipykernel)",
   "language": "python",
   "name": "python3"
  },
  "language_info": {
   "codemirror_mode": {
    "name": "ipython",
    "version": 3
   },
   "file_extension": ".py",
   "mimetype": "text/x-python",
   "name": "python",
   "nbconvert_exporter": "python",
   "pygments_lexer": "ipython3",
   "version": "3.10.9"
  }
 },
 "nbformat": 4,
 "nbformat_minor": 5
}
